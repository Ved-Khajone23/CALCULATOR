def add(num1,num2):
  return num1+num2

def sub(num1,num2):
  return num1-num2

def mul(num1,num2):
 return num1*num2

def div(num1,num2):
 return num1//num2

choice=input("enter the choice:")
num_1=int(input("enter the no.:"))
num_2=int(input("enter the no.:"))

if choice=='a':
 print("addition",add(num_1,num_2))
elif choice=='b':
 print("subtraction",sub(num_1,num_2))
elif choice=='c':
 print("multiplication",mul(num_1,num_2))
elif choice=='d':
  print("division",div(num_1,num_2))
else :
  print("output is invalid")
