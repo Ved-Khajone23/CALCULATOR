{
 "cells": [
  {
   "cell_type": "code",
   "execution_count": null,
   "metadata": {},
   "outputs": [],
   "source": [
    "#Calculator"
   ]
  },
  {
   "cell_type": "code",
   "execution_count": 3,
   "metadata": {
    "colab": {
     "base_uri": "https://localhost:8080/"
    },
    "executionInfo": {
     "elapsed": 18953,
     "status": "ok",
     "timestamp": 1694967584292,
     "user": {
      "displayName": "akshay yeole",
      "userId": "16400682904381563403"
     },
     "user_tz": -330
    },
    "id": "JOru4PO5vhog",
    "outputId": "f46b61a0-d61a-48c5-f34a-0b9b010f8988"
   },
   "outputs": [
    {
     "name": "stdout",
     "output_type": "stream",
     "text": [
      "enter the choice:c\n",
      "enter the no.:25\n",
      "enter the no.:4\n",
      "multiplication 100\n"
     ]
    }
   ],
   "source": [
    "def add(num1,num2):\n",
    "  return num1+num2\n",
    "\n",
    "def sub(num1,num2):\n",
    "  return num1-num2\n",
    "\n",
    "def mul(num1,num2):\n",
    " return num1*num2\n",
    "\n",
    "def div(num1,num2):\n",
    " return num1//num2\n",
    "\n",
    "choice=input(\"enter the choice:\")\n",
    "num_1=int(input(\"enter the no.:\"))\n",
    "num_2=int(input(\"enter the no.:\"))\n",
    "\n",
    "if choice=='a':\n",
    " print(\"addition\",add(num_1,num_2))\n",
    "elif choice=='b':\n",
    " print(\"subtraction\",sub(num_1,num_2))\n",
    "elif choice=='c':\n",
    " print(\"multiplication\",mul(num_1,num_2))\n",
    "elif choice=='d':\n",
    "  print(\"division\",div(num_1,num_2))\n",
    "else :\n",
    "  print(\"output is invalid\")"
   ]
  }
 ],
 "metadata": {
  "colab": {
   "authorship_tag": "ABX9TyMxGKRutNt1QgeDjwNn6qMw",
   "provenance": []
  },
  "kernelspec": {
   "display_name": "Python 3 (ipykernel)",
   "language": "python",
   "name": "python3"
  },
  "language_info": {
   "codemirror_mode": {
    "name": "ipython",
    "version": 3
   },
   "file_extension": ".py",
   "mimetype": "text/x-python",
   "name": "python",
   "nbconvert_exporter": "python",
   "pygments_lexer": "ipython3",
   "version": "3.12.0"
  }
 },
 "nbformat": 4,
 "nbformat_minor": 4
}
